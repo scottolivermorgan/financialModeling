{
 "cells": [
  {
   "cell_type": "code",
   "execution_count": null,
   "metadata": {},
   "outputs": [],
   "source": [
    "import pandas as pd\n",
    "import json\n",
    "import helpers.functions as h\n",
    "import numpy as np"
   ]
  },
  {
   "cell_type": "code",
   "execution_count": null,
   "metadata": {},
   "outputs": [],
   "source": [
    "# Load assets\n",
    "with open('config_test.json') as file:\n",
    "    asset_names = json.load(file)"
   ]
  },
  {
   "cell_type": "code",
   "execution_count": null,
   "metadata": {},
   "outputs": [],
   "source": [
    "# User selects assets for direct comparison.\n",
    "COMPARISON = ['SQQQ',\n",
    "              'JDST',\n",
    "              'FAZ',\n",
    "              'SPXS',\n",
    "              'SDOW']"
   ]
  },
  {
   "cell_type": "code",
   "execution_count": null,
   "metadata": {},
   "outputs": [],
   "source": [
    "# Initialise datframe to log modeling params\n",
    "asset_modeling = pd.DataFrame(columns = [\n",
    "                                    'ticker',\n",
    "                                    'slope',      \n",
    "                                    'intercept',       \n",
    "                                    'r_value',     \n",
    "                                    'p_value',  \n",
    "                                    'std_err'\n",
    "                                    ])\n",
    "\n",
    "# Iterate over assets, retrive data and make calculations.\n",
    "\n",
    "# Underlaying assets\n",
    "for count, index in enumerate(asset_names[\"indices\"]):\n",
    "    # Derivatives of underlaying assets\n",
    "    for ticker in asset_names[\"indices\"][index][\"Derivatives\"]:\n",
    "        print(f'retrieving {ticker} data')\n",
    "\n",
    "        # Retrive price data\n",
    "        df = h.getData(ticker)\n",
    "\n",
    "        # Check dataframe is populated\n",
    "        if len(df) > 0:\n",
    "            # Plot price and logged price vs time \n",
    "            h.price_vs_time(df, ticker, log = False)\n",
    "\n",
    "            # As above but return fitting params\n",
    "            slope, intercept, r_value, p_value, std_err = h.price_vs_time(df, ticker, log = True)\n",
    "            \n",
    "            # Add fitting params to dataframe\n",
    "            temp_df = pd.DataFrame(data = {\n",
    "                                        'ticker': ticker,\n",
    "                                        'slope': slope, \n",
    "                                        'intercept': intercept,     \n",
    "                                        'r_value': r_value,       \n",
    "                                        'p_value': p_value,     \n",
    "                                        'std_err': std_err\n",
    "                                        },  index=[0])\n",
    "            \n",
    "            asset_modeling = pd.concat([asset_modeling, temp_df])\n",
    "\n",
    "            # Calculate largest peak to trough drawdown in dataframe\n",
    "            drawdown_df = h.largestDrawDown(df)\n",
    "\n",
    "            # Plot daily price movement distribution.\n",
    "            daily_distribtion = h.distribution_plot(df, ticker)\n",
    "\n",
    "            # Aggregate to compare accross assets from user selection\n",
    "            if ticker in COMPARISON:\n",
    "                sm_df = df[['Date', 'Log Close']]\n",
    "                try:\n",
    "                    comparison_df = h.composite_dataframe(comparison_df, sm_df, ticker)\n",
    "\n",
    "                except:\n",
    "                    comparison_df = sm_df.rename(columns={\"Log Close\": f\"{ticker}_Log_Close\"})\n",
    "                \n",
    "        else:\n",
    "            print('Dataframe Empty')\n",
    "\n",
    "h.comparison_plot(comparison_df)\n",
    "h.linear_model_plot(asset_modeling)"
   ]
  },
  {
   "cell_type": "code",
   "execution_count": null,
   "metadata": {},
   "outputs": [],
   "source": []
  }
 ],
 "metadata": {
  "kernelspec": {
   "display_name": "venv",
   "language": "python",
   "name": "python3"
  },
  "language_info": {
   "codemirror_mode": {
    "name": "ipython",
    "version": 3
   },
   "file_extension": ".py",
   "mimetype": "text/x-python",
   "name": "python",
   "nbconvert_exporter": "python",
   "pygments_lexer": "ipython3",
   "version": "3.11.0"
  },
  "orig_nbformat": 4
 },
 "nbformat": 4,
 "nbformat_minor": 2
}
