{
 "cells": [
  {
   "cell_type": "code",
   "execution_count": 1,
   "metadata": {},
   "outputs": [],
   "source": [
    "import yfinance as yf"
   ]
  },
  {
   "cell_type": "code",
   "execution_count": 8,
   "metadata": {},
   "outputs": [],
   "source": [
    "spxs = yf.Ticker(\"SPXS\")\n",
    "sds = yf.Ticker(\"SDS\")\n",
    "sh = yf.Ticker(\"SH\")"
   ]
  },
  {
   "cell_type": "code",
   "execution_count": 10,
   "metadata": {},
   "outputs": [
    {
     "data": {
      "text/plain": [
       "{'phone': '866-476-7523',\n",
       " 'longBusinessSummary': 'The fund, under normal circumstances, invests at least 80% of its net assets (plus borrowing for investment purposes) in swap agreements, futures contracts, short positions or other financial instruments that provide inverse (opposite) or short daily exposure to the index or to ETFs that track the index, which, in combination, provider returns consistent with the fund’s investment objective. The index is a float-adjusted, market capitalization-weighted index. The fund is non-diversified.',\n",
       " 'maxAge': 86400,\n",
       " 'priceHint': 2,\n",
       " 'previousClose': 17.53,\n",
       " 'open': 17.5,\n",
       " 'dayLow': 17.4494,\n",
       " 'dayHigh': 17.755,\n",
       " 'regularMarketPreviousClose': 17.53,\n",
       " 'regularMarketOpen': 17.5,\n",
       " 'regularMarketDayLow': 17.4494,\n",
       " 'regularMarketDayHigh': 17.755,\n",
       " 'volume': 17182574,\n",
       " 'regularMarketVolume': 17182574,\n",
       " 'averageVolume': 28725901,\n",
       " 'averageVolume10days': 19809310,\n",
       " 'averageDailyVolume10Day': 19809310,\n",
       " 'bid': 17.53,\n",
       " 'ask': 17.54,\n",
       " 'bidSize': 28000,\n",
       " 'askSize': 21500,\n",
       " 'yield': 0.0,\n",
       " 'totalAssets': 1034988992,\n",
       " 'fiftyTwoWeekLow': 16.97,\n",
       " 'fiftyTwoWeekHigh': 31.42,\n",
       " 'fiftyDayAverage': 18.9646,\n",
       " 'twoHundredDayAverage': 21.34585,\n",
       " 'navPrice': 17.53,\n",
       " 'currency': 'USD',\n",
       " 'category': 'Trading--Inverse Equity',\n",
       " 'ytdReturn': -0.2139013,\n",
       " 'beta3Year': -2.89,\n",
       " 'fundFamily': 'Direxion Funds',\n",
       " 'fundInceptionDate': 1225843200,\n",
       " 'legalType': 'Exchange Traded Fund',\n",
       " 'threeYearAverageReturn': -0.4631528,\n",
       " 'fiveYearAverageReturn': -0.4242047,\n",
       " 'exchange': 'PCX',\n",
       " 'quoteType': 'ETF',\n",
       " 'symbol': 'SPXS',\n",
       " 'underlyingSymbol': 'SPXS',\n",
       " 'shortName': 'Direxion Daily S&P 500 Bear 3X',\n",
       " 'longName': 'Direxion Daily S&P 500 Bear 3X Shares',\n",
       " 'firstTradeDateEpochUtc': 1227105000,\n",
       " 'timeZoneFullName': 'America/New_York',\n",
       " 'timeZoneShortName': 'EDT',\n",
       " 'uuid': '6f071772-915c-305a-b60c-8afb859ce40d',\n",
       " 'messageBoardId': 'finmb_51234694',\n",
       " 'gmtOffSetMilliseconds': -14400000,\n",
       " 'trailingPegRatio': None}"
      ]
     },
     "execution_count": 10,
     "metadata": {},
     "output_type": "execute_result"
    }
   ],
   "source": [
    "spxs.info\n"
   ]
  },
  {
   "cell_type": "code",
   "execution_count": 11,
   "metadata": {},
   "outputs": [
    {
     "data": {
      "text/plain": [
       "{'longBusinessSummary': \"The fund invests in financial instruments that ProShare Advisors believes, in combination, should produce daily returns consistent with the fund's investment objective. The index is a measure of large-cap U.S. stock market performance. The fund is non-diversified.\",\n",
       " 'maxAge': 86400,\n",
       " 'priceHint': 2,\n",
       " 'previousClose': 39.71,\n",
       " 'open': 39.67,\n",
       " 'dayLow': 39.57,\n",
       " 'dayHigh': 40.06,\n",
       " 'regularMarketPreviousClose': 39.71,\n",
       " 'regularMarketOpen': 39.67,\n",
       " 'regularMarketDayLow': 39.57,\n",
       " 'regularMarketDayHigh': 40.06,\n",
       " 'volume': 4808532,\n",
       " 'regularMarketVolume': 4808532,\n",
       " 'averageVolume': 7474041,\n",
       " 'averageVolume10days': 5378440,\n",
       " 'averageDailyVolume10Day': 5378440,\n",
       " 'bid': 39.68,\n",
       " 'ask': 39.73,\n",
       " 'bidSize': 800,\n",
       " 'askSize': 2900,\n",
       " 'yield': 0.0108,\n",
       " 'totalAssets': 978468160,\n",
       " 'fiftyTwoWeekLow': 38.15,\n",
       " 'fiftyTwoWeekHigh': 57.07,\n",
       " 'fiftyDayAverage': 41.653,\n",
       " 'twoHundredDayAverage': 44.281,\n",
       " 'navPrice': 39.7193,\n",
       " 'currency': 'USD',\n",
       " 'category': 'Trading--Inverse Equity',\n",
       " 'ytdReturn': -0.130733,\n",
       " 'beta3Year': -1.95,\n",
       " 'fundFamily': 'ProShares',\n",
       " 'fundInceptionDate': 1152576000,\n",
       " 'legalType': 'Exchange Traded Fund',\n",
       " 'threeYearAverageReturn': -0.3112976,\n",
       " 'fiveYearAverageReturn': -0.27016962,\n",
       " 'exchange': 'PCX',\n",
       " 'quoteType': 'ETF',\n",
       " 'symbol': 'SDS',\n",
       " 'underlyingSymbol': 'SDS',\n",
       " 'shortName': 'ProShares UltraShort S&P500',\n",
       " 'longName': 'ProShares UltraShort S&P500',\n",
       " 'firstTradeDateEpochUtc': 1152797400,\n",
       " 'timeZoneFullName': 'America/New_York',\n",
       " 'timeZoneShortName': 'EDT',\n",
       " 'uuid': '27b6ef89-fb1e-3ef3-b774-e178f12655f9',\n",
       " 'messageBoardId': 'finmb_28040473',\n",
       " 'gmtOffSetMilliseconds': -14400000,\n",
       " 'trailingPegRatio': None}"
      ]
     },
     "execution_count": 11,
     "metadata": {},
     "output_type": "execute_result"
    }
   ],
   "source": [
    "sds.info\n"
   ]
  },
  {
   "cell_type": "code",
   "execution_count": 12,
   "metadata": {},
   "outputs": [
    {
     "data": {
      "text/plain": [
       "{'longBusinessSummary': \"The fund invests in financial instruments that ProShare Advisors believes, in combination, should produce daily returns consistent with the fund's investment objective. The index is a measure of large-cap U.S. stock market performance. It is a float-adjusted, market capitalization-weighted index of 500 U.S. operating companies and real estate investment trusts selected through a process that factors in criteria such as liquidity, price, market capitalization, financial viability and public float. The fund is non-diversified.\",\n",
       " 'maxAge': 86400,\n",
       " 'priceHint': 2,\n",
       " 'previousClose': 14.97,\n",
       " 'open': 14.96,\n",
       " 'dayLow': 14.94,\n",
       " 'dayHigh': 15.0293,\n",
       " 'regularMarketPreviousClose': 14.97,\n",
       " 'regularMarketOpen': 14.96,\n",
       " 'regularMarketDayLow': 14.94,\n",
       " 'regularMarketDayHigh': 15.0293,\n",
       " 'volume': 28626169,\n",
       " 'regularMarketVolume': 28626169,\n",
       " 'averageVolume': 33070352,\n",
       " 'averageVolume10days': 27936070,\n",
       " 'averageDailyVolume10Day': 27936070,\n",
       " 'bid': 14.95,\n",
       " 'ask': 14.97,\n",
       " 'bidSize': 396000,\n",
       " 'askSize': 301500,\n",
       " 'yield': 0.0115,\n",
       " 'totalAssets': 2282472960,\n",
       " 'fiftyTwoWeekLow': 14.39,\n",
       " 'fiftyTwoWeekHigh': 17.71,\n",
       " 'fiftyDayAverage': 15.32,\n",
       " 'twoHundredDayAverage': 15.64905,\n",
       " 'trailingAnnualDividendRate': 0.0,\n",
       " 'trailingAnnualDividendYield': 0.0,\n",
       " 'navPrice': 14.9618,\n",
       " 'currency': 'USD',\n",
       " 'category': 'Trading--Inverse Equity',\n",
       " 'ytdReturn': -0.0588248,\n",
       " 'beta3Year': -0.98,\n",
       " 'fundFamily': 'ProShares',\n",
       " 'fundInceptionDate': 1150675200,\n",
       " 'legalType': 'Exchange Traded Fund',\n",
       " 'threeYearAverageReturn': -0.1541597,\n",
       " 'fiveYearAverageReturn': -0.122828305,\n",
       " 'exchange': 'PCX',\n",
       " 'quoteType': 'ETF',\n",
       " 'symbol': 'SH',\n",
       " 'underlyingSymbol': 'SH',\n",
       " 'shortName': 'ProShares Short S&P500',\n",
       " 'longName': 'ProShares Short S&P500',\n",
       " 'firstTradeDateEpochUtc': 1150896600,\n",
       " 'timeZoneFullName': 'America/New_York',\n",
       " 'timeZoneShortName': 'EDT',\n",
       " 'uuid': 'ec5704f0-d569-35d1-a5b8-f9a2384a2b4b',\n",
       " 'messageBoardId': 'finmb_48976441',\n",
       " 'gmtOffSetMilliseconds': -14400000,\n",
       " 'trailingPegRatio': None}"
      ]
     },
     "execution_count": 12,
     "metadata": {},
     "output_type": "execute_result"
    }
   ],
   "source": [
    "sh.info"
   ]
  },
  {
   "cell_type": "code",
   "execution_count": null,
   "metadata": {},
   "outputs": [],
   "source": []
  }
 ],
 "metadata": {
  "kernelspec": {
   "display_name": "venv",
   "language": "python",
   "name": "python3"
  },
  "language_info": {
   "codemirror_mode": {
    "name": "ipython",
    "version": 3
   },
   "file_extension": ".py",
   "mimetype": "text/x-python",
   "name": "python",
   "nbconvert_exporter": "python",
   "pygments_lexer": "ipython3",
   "version": "3.11.0"
  },
  "orig_nbformat": 4
 },
 "nbformat": 4,
 "nbformat_minor": 2
}
