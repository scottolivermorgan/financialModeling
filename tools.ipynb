{
 "cells": [
  {
   "cell_type": "code",
   "execution_count": null,
   "metadata": {},
   "outputs": [],
   "source": [
    "import json\n",
    "import helpers.functions as h"
   ]
  },
  {
   "cell_type": "code",
   "execution_count": null,
   "metadata": {},
   "outputs": [],
   "source": [
    "# Load assets\n",
    "with open('config_test.json') as file:\n",
    "    asset_names = json.load(file)"
   ]
  },
  {
   "cell_type": "code",
   "execution_count": null,
   "metadata": {},
   "outputs": [],
   "source": [
    "# Iterate over assets, retrive data and make calculations.\n",
    "\n",
    "# Underlaying assets\n",
    "for count, index in enumerate(asset_names[\"indices\"]):\n",
    "    # Derivatives of underlaying assets\n",
    "    for ticker in asset_names[\"indices\"][index][\"Derivatives\"]:\n",
    "        print(f'retrieving {ticker} data')\n",
    "\n",
    "        # Retrive price data\n",
    "        df = h.getData(ticker)\n",
    "\n",
    "        # Check dataframe is populated\n",
    "        if len(df) > 0:\n",
    "            # Plot price and logged price vs time \n",
    "            h.price_vs_time(df, ticker, log = False)\n",
    "            h.price_vs_time(df, ticker, log = True)\n",
    "\n",
    "            # Calculate largest peak to trough drawdown in dataframe\n",
    "            drawdown_df = h.largestDrawDown(df)\n",
    "\n",
    "            # Plot daily price movement distribution.\n",
    "            daily_distribtion = h.distribution_plot(df, ticker)\n",
    "\n",
    "            # Aggregate to compare accross assets\n",
    "            sm_df = df[['Date', 'Log Close']]\n",
    "            try:\n",
    "                comparison_df = h.composite_dataframe(comparison_df, sm_df, ticker)\n",
    "\n",
    "            except:\n",
    "                comparison_df = sm_df.rename(columns={\"Log Close\": f\"{ticker}_Log_Close\"})\n",
    "                \n",
    "        else:\n",
    "            print('Dataframe Empty')"
   ]
  },
  {
   "cell_type": "code",
   "execution_count": null,
   "metadata": {},
   "outputs": [],
   "source": [
    "comparison_df"
   ]
  }
 ],
 "metadata": {
  "kernelspec": {
   "display_name": "venv",
   "language": "python",
   "name": "python3"
  },
  "language_info": {
   "codemirror_mode": {
    "name": "ipython",
    "version": 3
   },
   "file_extension": ".py",
   "mimetype": "text/x-python",
   "name": "python",
   "nbconvert_exporter": "python",
   "pygments_lexer": "ipython3",
   "version": "3.11.0"
  },
  "orig_nbformat": 4
 },
 "nbformat": 4,
 "nbformat_minor": 2
}
